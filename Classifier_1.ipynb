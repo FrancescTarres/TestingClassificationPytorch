{
  "nbformat": 4,
  "nbformat_minor": 0,
  "metadata": {
    "colab": {
      "name": "Classifier_1.ipynb",
      "version": "0.3.2",
      "provenance": [],
      "include_colab_link": true
    },
    "kernelspec": {
      "name": "python3",
      "display_name": "Python 3"
    }
  },
  "cells": [
    {
      "cell_type": "markdown",
      "metadata": {
        "id": "view-in-github",
        "colab_type": "text"
      },
      "source": [
        "<a href=\"https://colab.research.google.com/github/FrancescTarres/TestingClassificationPytorch/blob/master/Classifier_1.ipynb\" target=\"_parent\"><img src=\"https://colab.research.google.com/assets/colab-badge.svg\" alt=\"Open In Colab\"/></a>"
      ]
    },
    {
      "metadata": {
        "id": "T58DWypN0qOL",
        "colab_type": "text"
      },
      "cell_type": "markdown",
      "source": [
        "# Taining a classifier: An example from pytorch tutorials\n",
        "## Objective\n",
        "\n",
        "\n",
        "---\n",
        "\n",
        "\n",
        "Create a first approach of a classification using CIFAR based on a tutorial of Pytorch and extend that solution to another type of classifier (that will be later defined).\n",
        "\n",
        "\n",
        "\n"
      ]
    },
    {
      "metadata": {
        "id": "-SNDtMCD1rnI",
        "colab_type": "code",
        "colab": {}
      },
      "cell_type": "code",
      "source": [
        "import torch\n",
        "import torhvision\n",
        "import torchvision.transforms as transforms\n"
      ],
      "execution_count": 0,
      "outputs": []
    }
  ]
}